{
  "cells": [
    {
      "cell_type": "code",
      "execution_count": 2,
      "metadata": {
        "colab": {
          "base_uri": "https://localhost:8080/"
        },
        "id": "KODdcXasauTG",
        "outputId": "78252610-b2b6-4891-b87c-9879e4f4fbc8"
      },
      "outputs": [
        {
          "name": "stdout",
          "output_type": "stream",
          "text": [
            "Collecting mediapipe\n",
            "  Downloading mediapipe-0.10.9-cp310-cp310-manylinux_2_17_x86_64.manylinux2014_x86_64.whl (34.5 MB)\n",
            "\u001b[2K     \u001b[90m━━━━━━━━━━━━━━━━━━━━━━━━━━━━━━━━━━━━━━━━\u001b[0m \u001b[32m34.5/34.5 MB\u001b[0m \u001b[31m33.3 MB/s\u001b[0m eta \u001b[36m0:00:00\u001b[0m\n",
            "\u001b[?25hRequirement already satisfied: absl-py in /usr/local/lib/python3.10/dist-packages (from mediapipe) (1.4.0)\n",
            "Requirement already satisfied: attrs>=19.1.0 in /usr/local/lib/python3.10/dist-packages (from mediapipe) (23.1.0)\n",
            "Requirement already satisfied: flatbuffers>=2.0 in /usr/local/lib/python3.10/dist-packages (from mediapipe) (23.5.26)\n",
            "Requirement already satisfied: matplotlib in /usr/local/lib/python3.10/dist-packages (from mediapipe) (3.7.1)\n",
            "Requirement already satisfied: numpy in /usr/local/lib/python3.10/dist-packages (from mediapipe) (1.23.5)\n",
            "Requirement already satisfied: opencv-contrib-python in /usr/local/lib/python3.10/dist-packages (from mediapipe) (4.8.0.76)\n",
            "Requirement already satisfied: protobuf<4,>=3.11 in /usr/local/lib/python3.10/dist-packages (from mediapipe) (3.20.3)\n",
            "Collecting sounddevice>=0.4.4 (from mediapipe)\n",
            "  Downloading sounddevice-0.4.6-py3-none-any.whl (31 kB)\n",
            "Requirement already satisfied: CFFI>=1.0 in /usr/local/lib/python3.10/dist-packages (from sounddevice>=0.4.4->mediapipe) (1.16.0)\n",
            "Requirement already satisfied: contourpy>=1.0.1 in /usr/local/lib/python3.10/dist-packages (from matplotlib->mediapipe) (1.2.0)\n",
            "Requirement already satisfied: cycler>=0.10 in /usr/local/lib/python3.10/dist-packages (from matplotlib->mediapipe) (0.12.1)\n",
            "Requirement already satisfied: fonttools>=4.22.0 in /usr/local/lib/python3.10/dist-packages (from matplotlib->mediapipe) (4.46.0)\n",
            "Requirement already satisfied: kiwisolver>=1.0.1 in /usr/local/lib/python3.10/dist-packages (from matplotlib->mediapipe) (1.4.5)\n",
            "Requirement already satisfied: packaging>=20.0 in /usr/local/lib/python3.10/dist-packages (from matplotlib->mediapipe) (23.2)\n",
            "Requirement already satisfied: pillow>=6.2.0 in /usr/local/lib/python3.10/dist-packages (from matplotlib->mediapipe) (9.4.0)\n",
            "Requirement already satisfied: pyparsing>=2.3.1 in /usr/local/lib/python3.10/dist-packages (from matplotlib->mediapipe) (3.1.1)\n",
            "Requirement already satisfied: python-dateutil>=2.7 in /usr/local/lib/python3.10/dist-packages (from matplotlib->mediapipe) (2.8.2)\n",
            "Requirement already satisfied: pycparser in /usr/local/lib/python3.10/dist-packages (from CFFI>=1.0->sounddevice>=0.4.4->mediapipe) (2.21)\n",
            "Requirement already satisfied: six>=1.5 in /usr/local/lib/python3.10/dist-packages (from python-dateutil>=2.7->matplotlib->mediapipe) (1.16.0)\n",
            "Installing collected packages: sounddevice, mediapipe\n",
            "Successfully installed mediapipe-0.10.9 sounddevice-0.4.6\n"
          ]
        }
      ],
      "source": [
        "!pip install mediapipe"
      ]
    },
    {
      "cell_type": "code",
      "execution_count": 3,
      "metadata": {
        "id": "FHTXnoUFN7eZ"
      },
      "outputs": [],
      "source": [
        "import cv2\n",
        "import numpy as np\n",
        "import os\n",
        "from matplotlib import pyplot as plt\n",
        "import time\n",
        "import mediapipe as mp"
      ]
    },
    {
      "cell_type": "code",
      "execution_count": 4,
      "metadata": {
        "id": "FoDohkhfal_5"
      },
      "outputs": [],
      "source": [
        "mp_holistic = mp.solutions.holistic # Holistic model\n",
        "mp_drawing = mp.solutions.drawing_utils # Drawing utilities"
      ]
    },
    {
      "cell_type": "code",
      "execution_count": 5,
      "metadata": {
        "id": "t5zkBfD2a7DF"
      },
      "outputs": [],
      "source": [
        "def mediapipe_detection(image, model):\n",
        "    image = cv2.cvtColor(image, cv2.COLOR_BGR2RGB) # COLOR CONVERSION BGR 2 RGB\n",
        "    image.flags.writeable = False                  # Image is no longer writeable\n",
        "    results = model.process(image)                 # Make prediction\n",
        "    image.flags.writeable = True                   # Image is now writeable\n",
        "    image = cv2.cvtColor(image, cv2.COLOR_RGB2BGR) # COLOR COVERSION RGB 2 BGR\n",
        "    return image, results"
      ]
    },
    {
      "cell_type": "code",
      "execution_count": 6,
      "metadata": {
        "id": "go6Lxiuga-3M"
      },
      "outputs": [],
      "source": [
        "def draw_styled_landmarks(image, results):\n",
        "    # Draw face connections\n",
        "    mp_drawing.draw_landmarks(image, results.face_landmarks, mp_holistic.FACE_CONNECTIONS,\n",
        "                             mp_drawing.DrawingSpec(color=(80,110,10), thickness=1, circle_radius=1),\n",
        "                             mp_drawing.DrawingSpec(color=(80,256,121), thickness=1, circle_radius=1)\n",
        "                             )\n",
        "    # Draw pose connections\n",
        "    mp_drawing.draw_landmarks(image, results.pose_landmarks, mp_holistic.POSE_CONNECTIONS,\n",
        "                             mp_drawing.DrawingSpec(color=(80,22,10), thickness=2, circle_radius=4),\n",
        "                             mp_drawing.DrawingSpec(color=(80,44,121), thickness=2, circle_radius=2)\n",
        "                             )\n",
        "    # Draw left hand connections\n",
        "    mp_drawing.draw_landmarks(image, results.left_hand_landmarks, mp_holistic.HAND_CONNECTIONS,\n",
        "                             mp_drawing.DrawingSpec(color=(121,22,76), thickness=2, circle_radius=4),\n",
        "                             mp_drawing.DrawingSpec(color=(121,44,250), thickness=2, circle_radius=2)\n",
        "                             )\n",
        "    # Draw right hand connections\n",
        "    mp_drawing.draw_landmarks(image, results.right_hand_landmarks, mp_holistic.HAND_CONNECTIONS,\n",
        "                             mp_drawing.DrawingSpec(color=(245,117,66), thickness=2, circle_radius=4),\n",
        "                             mp_drawing.DrawingSpec(color=(245,66,230), thickness=2, circle_radius=2)\n",
        "                             )"
      ]
    },
    {
      "cell_type": "code",
      "execution_count": 7,
      "metadata": {
        "id": "I_A3hv_SbBZc"
      },
      "outputs": [],
      "source": [
        "def extract_keypoints(results):\n",
        "    pose = np.array([[res.x, res.y, res.z, res.visibility] for res in results.pose_landmarks.landmark]).flatten() if results.pose_landmarks else np.zeros(33*4)\n",
        "    # face = np.array([[res.x, res.y, res.z] for res in results.face_landmarks.landmark]).flatten() if results.face_landmarks else np.zeros(468*3)\n",
        "    lh = np.array([[res.x, res.y, res.z] for res in results.left_hand_landmarks.landmark]).flatten() if results.left_hand_landmarks else np.zeros(21*3)\n",
        "    rh = np.array([[res.x, res.y, res.z] for res in results.right_hand_landmarks.landmark]).flatten() if results.right_hand_landmarks else np.zeros(21*3)\n",
        "    return np.concatenate([pose, lh, rh])"
      ]
    },
    {
      "cell_type": "code",
      "execution_count": 8,
      "metadata": {
        "colab": {
          "base_uri": "https://localhost:8080/"
        },
        "id": "kreynLTXbOR9",
        "outputId": "15c06beb-39ec-47d4-96ac-591b6e9963ca"
      },
      "outputs": [
        {
          "name": "stdout",
          "output_type": "stream",
          "text": [
            "Mounted at /content/drive\n"
          ]
        }
      ],
      "source": [
        "from google.colab import drive\n",
        "drive.mount('/content/drive')"
      ]
    },
    {
      "cell_type": "code",
      "execution_count": 9,
      "metadata": {
        "id": "KFDEyhd2bm14"
      },
      "outputs": [],
      "source": [
        "# Path for exported data, numpy arrays\n",
        "DATA_PATH = '/content/drive/MyDrive/DL/RNN/Gesture Controlled computer/Gesture Controlled computer/Point_Dataset'\n",
        "\n",
        "# Actions that we try to detect\n",
        "actions = np.array(['forward', 'backward', 'pause-play','full-screen','normal-screen'])\n",
        "\n",
        "# Thirty videos worth of data\n",
        "no_sequences = 30\n",
        "\n",
        "# Videos are going to be 30 frames in length\n",
        "sequence_length = 30"
      ]
    },
    {
      "cell_type": "code",
      "execution_count": 10,
      "metadata": {
        "id": "1GjKmhtOcNOK"
      },
      "outputs": [],
      "source": [
        "from sklearn.model_selection import train_test_split\n",
        "from tensorflow.keras.utils import to_categorical"
      ]
    },
    {
      "cell_type": "code",
      "execution_count": 11,
      "metadata": {
        "colab": {
          "base_uri": "https://localhost:8080/"
        },
        "id": "6NyMWBwPcVvW",
        "outputId": "9c6fcc6c-25ef-469b-cd68-b64eb5411343"
      },
      "outputs": [
        {
          "data": {
            "text/plain": [
              "{'forward': 0,\n",
              " 'backward': 1,\n",
              " 'pause-play': 2,\n",
              " 'full-screen': 3,\n",
              " 'normal-screen': 4}"
            ]
          },
          "execution_count": 11,
          "metadata": {},
          "output_type": "execute_result"
        }
      ],
      "source": [
        "label_map = {label:num for num, label in enumerate(actions)}\n",
        "label_map"
      ]
    },
    {
      "cell_type": "code",
      "execution_count": 14,
      "metadata": {
        "colab": {
          "base_uri": "https://localhost:8080/"
        },
        "id": "Xxc_QmgScdJb",
        "outputId": "952e9111-4c51-400b-d88f-ca2bcc50868d"
      },
      "outputs": [
        {
          "name": "stdout",
          "output_type": "stream",
          "text": [
            "forward 0\n",
            "forward 1\n",
            "forward 2\n",
            "forward 3\n",
            "forward 4\n",
            "forward 5\n",
            "forward 6\n",
            "forward 7\n",
            "forward 8\n",
            "forward 9\n",
            "forward 10\n",
            "forward 11\n",
            "forward 12\n",
            "forward 13\n",
            "forward 14\n",
            "forward 15\n",
            "forward 16\n",
            "forward 17\n",
            "forward 18\n",
            "forward 19\n",
            "forward 20\n",
            "forward 21\n",
            "forward 22\n",
            "forward 23\n",
            "forward 24\n",
            "forward 25\n",
            "forward 26\n",
            "forward 27\n",
            "forward 28\n",
            "forward 29\n",
            "backward 0\n",
            "backward 1\n",
            "backward 2\n",
            "backward 3\n",
            "backward 4\n",
            "backward 5\n",
            "backward 6\n",
            "backward 7\n",
            "backward 8\n",
            "backward 9\n",
            "backward 10\n",
            "backward 11\n",
            "backward 12\n",
            "backward 13\n",
            "backward 14\n",
            "backward 15\n",
            "backward 16\n",
            "backward 17\n",
            "backward 18\n",
            "backward 19\n",
            "backward 20\n",
            "backward 21\n",
            "backward 22\n",
            "backward 23\n",
            "backward 24\n",
            "backward 25\n",
            "backward 26\n",
            "backward 27\n",
            "backward 28\n",
            "backward 29\n",
            "pause-play 0\n",
            "pause-play 1\n",
            "pause-play 2\n",
            "pause-play 3\n",
            "pause-play 4\n",
            "pause-play 5\n",
            "pause-play 6\n",
            "pause-play 7\n",
            "pause-play 8\n",
            "pause-play 9\n",
            "pause-play 10\n",
            "pause-play 11\n",
            "pause-play 12\n",
            "pause-play 13\n",
            "pause-play 14\n",
            "pause-play 15\n",
            "pause-play 16\n",
            "pause-play 17\n",
            "pause-play 18\n",
            "pause-play 19\n",
            "pause-play 20\n",
            "pause-play 21\n",
            "pause-play 22\n",
            "pause-play 23\n",
            "pause-play 24\n",
            "pause-play 25\n",
            "pause-play 26\n",
            "pause-play 27\n",
            "pause-play 28\n",
            "pause-play 29\n",
            "full-screen 0\n",
            "full-screen 1\n",
            "full-screen 2\n",
            "full-screen 3\n",
            "full-screen 4\n",
            "full-screen 5\n",
            "full-screen 6\n",
            "full-screen 7\n",
            "full-screen 8\n",
            "full-screen 9\n",
            "full-screen 10\n",
            "full-screen 11\n",
            "full-screen 12\n",
            "full-screen 13\n",
            "full-screen 14\n",
            "full-screen 15\n",
            "full-screen 16\n",
            "full-screen 17\n",
            "full-screen 18\n",
            "full-screen 19\n",
            "full-screen 20\n",
            "full-screen 21\n",
            "full-screen 22\n",
            "full-screen 23\n",
            "full-screen 24\n",
            "full-screen 25\n",
            "full-screen 26\n",
            "full-screen 27\n",
            "full-screen 28\n",
            "full-screen 29\n",
            "normal-screen 0\n",
            "normal-screen 1\n",
            "normal-screen 2\n",
            "normal-screen 3\n",
            "normal-screen 4\n",
            "normal-screen 5\n",
            "normal-screen 6\n",
            "normal-screen 7\n",
            "normal-screen 8\n",
            "normal-screen 9\n",
            "normal-screen 10\n",
            "normal-screen 11\n",
            "normal-screen 12\n",
            "normal-screen 13\n",
            "normal-screen 14\n",
            "normal-screen 15\n",
            "normal-screen 16\n",
            "normal-screen 17\n",
            "normal-screen 18\n",
            "normal-screen 19\n",
            "normal-screen 20\n",
            "normal-screen 21\n",
            "normal-screen 22\n",
            "normal-screen 23\n",
            "normal-screen 24\n",
            "normal-screen 25\n",
            "normal-screen 26\n",
            "normal-screen 27\n",
            "normal-screen 28\n",
            "normal-screen 29\n"
          ]
        }
      ],
      "source": [
        "sequences, labels = [], []\n",
        "for action in actions:\n",
        "    for sequence in range(no_sequences):\n",
        "        window = []\n",
        "        print(action,sequence)\n",
        "        for frame_num in range(sequence_length):\n",
        "            res = np.load(os.path.join(DATA_PATH, action, str(sequence), \"{}.npy\".format(frame_num)))\n",
        "            window.append(res)\n",
        "        sequences.append(window)\n",
        "        labels.append(label_map[action])"
      ]
    },
    {
      "cell_type": "code",
      "execution_count": 15,
      "metadata": {
        "colab": {
          "base_uri": "https://localhost:8080/"
        },
        "id": "bCFnMJKZciBt",
        "outputId": "5a851748-080a-46fe-e8f0-e843660e9a4c"
      },
      "outputs": [
        {
          "data": {
            "text/plain": [
              "(150, 30, 258)"
            ]
          },
          "execution_count": 15,
          "metadata": {},
          "output_type": "execute_result"
        }
      ],
      "source": [
        "np.array(sequences).shape"
      ]
    },
    {
      "cell_type": "code",
      "execution_count": 16,
      "metadata": {
        "colab": {
          "base_uri": "https://localhost:8080/"
        },
        "id": "Xo891Uiznz2M",
        "outputId": "6b97f4c7-a01c-42f3-ca7f-5f83fcdb739a"
      },
      "outputs": [
        {
          "data": {
            "text/plain": [
              "(150,)"
            ]
          },
          "execution_count": 16,
          "metadata": {},
          "output_type": "execute_result"
        }
      ],
      "source": [
        "np.array(labels).shape"
      ]
    },
    {
      "cell_type": "code",
      "execution_count": 17,
      "metadata": {
        "colab": {
          "base_uri": "https://localhost:8080/"
        },
        "id": "nYiO0VMFn1wO",
        "outputId": "c50259e4-6438-4379-a9dd-85e54adaf5d1"
      },
      "outputs": [
        {
          "data": {
            "text/plain": [
              "(8, 5)"
            ]
          },
          "execution_count": 17,
          "metadata": {},
          "output_type": "execute_result"
        }
      ],
      "source": [
        "X = np.array(sequences)\n",
        "y = to_categorical(labels).astype(int)\n",
        "X_train, X_test, y_train, y_test = train_test_split(X, y, test_size=0.05)\n",
        "y_test.shape"
      ]
    },
    {
      "cell_type": "code",
      "execution_count": 18,
      "metadata": {
        "id": "62QHHmUtn-M9"
      },
      "outputs": [],
      "source": [
        "from tensorflow.keras.models import Sequential\n",
        "from tensorflow.keras.layers import LSTM, Dense\n",
        "from tensorflow.keras.callbacks import TensorBoard"
      ]
    },
    {
      "cell_type": "code",
      "execution_count": 19,
      "metadata": {
        "id": "V8VOizStoJAv"
      },
      "outputs": [],
      "source": [
        "log_dir = os.path.join('Logs')\n",
        "tb_callback = TensorBoard(log_dir=log_dir)"
      ]
    },
    {
      "cell_type": "code",
      "execution_count": 25,
      "metadata": {
        "id": "gNaletT_oQrU"
      },
      "outputs": [],
      "source": [
        "model = Sequential()\n",
        "model.add(LSTM(64, return_sequences=True, activation='relu', input_shape=(30,258)))\n",
        "model.add(LSTM(128, return_sequences=True, activation='relu'))\n",
        "model.add(LSTM(64, return_sequences=False, activation='relu'))\n",
        "model.add(Dense(64, activation='relu'))\n",
        "model.add(Dense(32, activation='relu'))\n",
        "model.add(Dense(actions.shape[0], activation='softmax'))"
      ]
    },
    {
      "cell_type": "code",
      "execution_count": 26,
      "metadata": {
        "colab": {
          "base_uri": "https://localhost:8080/"
        },
        "id": "Tpl_zEDkoS8G",
        "outputId": "fd42bf2b-e4f3-4b40-817f-561b1e23f123"
      },
      "outputs": [
        {
          "data": {
            "text/plain": [
              "5"
            ]
          },
          "execution_count": 26,
          "metadata": {},
          "output_type": "execute_result"
        }
      ],
      "source": [
        "actions.shape[0]"
      ]
    },
    {
      "cell_type": "code",
      "execution_count": 27,
      "metadata": {
        "id": "pP3tOeJ3oWXK"
      },
      "outputs": [],
      "source": [
        "model.compile(optimizer='Adam', loss='categorical_crossentropy', metrics=['categorical_accuracy'])"
      ]
    },
    {
      "cell_type": "code",
      "execution_count": 29,
      "metadata": {
        "colab": {
          "base_uri": "https://localhost:8080/"
        },
        "id": "qfcOAn9UolGb",
        "outputId": "5c023754-aedc-43c6-fec7-4d80a5917552"
      },
      "outputs": [
        {
          "name": "stdout",
          "output_type": "stream",
          "text": [
            "Epoch 1/60\n",
            "5/5 [==============================] - 1s 82ms/step - loss: 0.0142 - categorical_accuracy: 0.9930\n",
            "Epoch 2/60\n",
            "5/5 [==============================] - 0s 87ms/step - loss: 0.0126 - categorical_accuracy: 0.9930\n",
            "Epoch 3/60\n",
            "5/5 [==============================] - 0s 85ms/step - loss: 0.0113 - categorical_accuracy: 0.9930\n",
            "Epoch 4/60\n",
            "5/5 [==============================] - 0s 86ms/step - loss: 0.0102 - categorical_accuracy: 0.9930\n",
            "Epoch 5/60\n",
            "5/5 [==============================] - 0s 85ms/step - loss: 0.0083 - categorical_accuracy: 0.9930\n",
            "Epoch 6/60\n",
            "5/5 [==============================] - 0s 85ms/step - loss: 0.0072 - categorical_accuracy: 1.0000\n",
            "Epoch 7/60\n",
            "5/5 [==============================] - 0s 86ms/step - loss: 0.0067 - categorical_accuracy: 1.0000\n",
            "Epoch 8/60\n",
            "5/5 [==============================] - 0s 83ms/step - loss: 0.0053 - categorical_accuracy: 1.0000\n",
            "Epoch 9/60\n",
            "5/5 [==============================] - 0s 89ms/step - loss: 0.0037 - categorical_accuracy: 1.0000\n",
            "Epoch 10/60\n",
            "5/5 [==============================] - 0s 86ms/step - loss: 0.0025 - categorical_accuracy: 1.0000\n",
            "Epoch 11/60\n",
            "5/5 [==============================] - 0s 90ms/step - loss: 0.0015 - categorical_accuracy: 1.0000\n",
            "Epoch 12/60\n",
            "5/5 [==============================] - 0s 87ms/step - loss: 8.9728e-04 - categorical_accuracy: 1.0000\n",
            "Epoch 13/60\n",
            "5/5 [==============================] - 1s 113ms/step - loss: 5.0803e-04 - categorical_accuracy: 1.0000\n",
            "Epoch 14/60\n",
            "5/5 [==============================] - 1s 149ms/step - loss: 2.7241e-04 - categorical_accuracy: 1.0000\n",
            "Epoch 15/60\n",
            "5/5 [==============================] - 1s 156ms/step - loss: 1.6736e-04 - categorical_accuracy: 1.0000\n",
            "Epoch 16/60\n",
            "5/5 [==============================] - 1s 151ms/step - loss: 1.3879e-04 - categorical_accuracy: 1.0000\n",
            "Epoch 17/60\n",
            "5/5 [==============================] - 1s 220ms/step - loss: 1.1405e-04 - categorical_accuracy: 1.0000\n",
            "Epoch 18/60\n",
            "5/5 [==============================] - 1s 180ms/step - loss: 9.0452e-05 - categorical_accuracy: 1.0000\n",
            "Epoch 19/60\n",
            "5/5 [==============================] - 1s 143ms/step - loss: 8.7557e-05 - categorical_accuracy: 1.0000\n",
            "Epoch 20/60\n",
            "5/5 [==============================] - 1s 130ms/step - loss: 8.0351e-05 - categorical_accuracy: 1.0000\n",
            "Epoch 21/60\n",
            "5/5 [==============================] - 0s 82ms/step - loss: 6.8793e-05 - categorical_accuracy: 1.0000\n",
            "Epoch 22/60\n",
            "5/5 [==============================] - 0s 87ms/step - loss: 5.5994e-05 - categorical_accuracy: 1.0000\n",
            "Epoch 23/60\n",
            "5/5 [==============================] - 0s 81ms/step - loss: 4.3939e-05 - categorical_accuracy: 1.0000\n",
            "Epoch 24/60\n",
            "5/5 [==============================] - 0s 84ms/step - loss: 3.8560e-05 - categorical_accuracy: 1.0000\n",
            "Epoch 25/60\n",
            "5/5 [==============================] - 0s 82ms/step - loss: 2.9904e-05 - categorical_accuracy: 1.0000\n",
            "Epoch 26/60\n",
            "5/5 [==============================] - 0s 82ms/step - loss: 2.5786e-05 - categorical_accuracy: 1.0000\n",
            "Epoch 27/60\n",
            "5/5 [==============================] - 0s 87ms/step - loss: 2.2117e-05 - categorical_accuracy: 1.0000\n",
            "Epoch 28/60\n",
            "5/5 [==============================] - 0s 85ms/step - loss: 1.9190e-05 - categorical_accuracy: 1.0000\n",
            "Epoch 29/60\n",
            "5/5 [==============================] - 0s 87ms/step - loss: 1.6322e-05 - categorical_accuracy: 1.0000\n",
            "Epoch 30/60\n",
            "5/5 [==============================] - 0s 82ms/step - loss: 1.3535e-05 - categorical_accuracy: 1.0000\n",
            "Epoch 31/60\n",
            "5/5 [==============================] - 0s 90ms/step - loss: 1.1227e-05 - categorical_accuracy: 1.0000\n",
            "Epoch 32/60\n",
            "5/5 [==============================] - 0s 83ms/step - loss: 1.0393e-05 - categorical_accuracy: 1.0000\n",
            "Epoch 33/60\n",
            "5/5 [==============================] - 0s 86ms/step - loss: 9.3449e-06 - categorical_accuracy: 1.0000\n",
            "Epoch 34/60\n",
            "5/5 [==============================] - 0s 89ms/step - loss: 8.3497e-06 - categorical_accuracy: 1.0000\n",
            "Epoch 35/60\n",
            "5/5 [==============================] - 0s 97ms/step - loss: 7.8335e-06 - categorical_accuracy: 1.0000\n",
            "Epoch 36/60\n",
            "5/5 [==============================] - 0s 88ms/step - loss: 6.9021e-06 - categorical_accuracy: 1.0000\n",
            "Epoch 37/60\n",
            "5/5 [==============================] - 0s 83ms/step - loss: 6.4011e-06 - categorical_accuracy: 1.0000\n",
            "Epoch 38/60\n",
            "5/5 [==============================] - 0s 83ms/step - loss: 6.0276e-06 - categorical_accuracy: 1.0000\n",
            "Epoch 39/60\n",
            "5/5 [==============================] - 0s 81ms/step - loss: 5.3671e-06 - categorical_accuracy: 1.0000\n",
            "Epoch 40/60\n",
            "5/5 [==============================] - 0s 83ms/step - loss: 5.0095e-06 - categorical_accuracy: 1.0000\n",
            "Epoch 41/60\n",
            "5/5 [==============================] - 0s 88ms/step - loss: 4.0872e-06 - categorical_accuracy: 1.0000\n",
            "Epoch 42/60\n",
            "5/5 [==============================] - 0s 84ms/step - loss: 3.6726e-06 - categorical_accuracy: 1.0000\n",
            "Epoch 43/60\n",
            "5/5 [==============================] - 1s 119ms/step - loss: 2.9129e-06 - categorical_accuracy: 1.0000\n",
            "Epoch 44/60\n",
            "5/5 [==============================] - 1s 151ms/step - loss: 2.2582e-06 - categorical_accuracy: 1.0000\n",
            "Epoch 45/60\n",
            "5/5 [==============================] - 1s 150ms/step - loss: 1.4599e-06 - categorical_accuracy: 1.0000\n",
            "Epoch 46/60\n",
            "5/5 [==============================] - 1s 147ms/step - loss: 1.5607e-04 - categorical_accuracy: 1.0000\n",
            "Epoch 47/60\n",
            "5/5 [==============================] - 1s 148ms/step - loss: 3.0606e-04 - categorical_accuracy: 1.0000\n",
            "Epoch 48/60\n",
            "5/5 [==============================] - 1s 151ms/step - loss: 4.9031e-04 - categorical_accuracy: 1.0000\n",
            "Epoch 49/60\n",
            "5/5 [==============================] - 1s 151ms/step - loss: 5.2753e-04 - categorical_accuracy: 1.0000\n",
            "Epoch 50/60\n",
            "5/5 [==============================] - 1s 153ms/step - loss: 4.6211e-04 - categorical_accuracy: 1.0000\n",
            "Epoch 51/60\n",
            "5/5 [==============================] - 0s 89ms/step - loss: 3.8143e-04 - categorical_accuracy: 1.0000\n",
            "Epoch 52/60\n",
            "5/5 [==============================] - 0s 84ms/step - loss: 3.0640e-04 - categorical_accuracy: 1.0000\n",
            "Epoch 53/60\n",
            "5/5 [==============================] - 0s 89ms/step - loss: 2.4770e-04 - categorical_accuracy: 1.0000\n",
            "Epoch 54/60\n",
            "5/5 [==============================] - 0s 82ms/step - loss: 2.0284e-04 - categorical_accuracy: 1.0000\n",
            "Epoch 55/60\n",
            "5/5 [==============================] - 0s 96ms/step - loss: 1.6961e-04 - categorical_accuracy: 1.0000\n",
            "Epoch 56/60\n",
            "5/5 [==============================] - 0s 82ms/step - loss: 1.4157e-04 - categorical_accuracy: 1.0000\n",
            "Epoch 57/60\n",
            "5/5 [==============================] - 0s 83ms/step - loss: 1.1859e-04 - categorical_accuracy: 1.0000\n",
            "Epoch 58/60\n",
            "5/5 [==============================] - 0s 83ms/step - loss: 1.0443e-04 - categorical_accuracy: 1.0000\n",
            "Epoch 59/60\n",
            "5/5 [==============================] - 0s 83ms/step - loss: 9.0722e-05 - categorical_accuracy: 1.0000\n",
            "Epoch 60/60\n",
            "5/5 [==============================] - 0s 86ms/step - loss: 8.0363e-05 - categorical_accuracy: 1.0000\n"
          ]
        },
        {
          "data": {
            "text/plain": [
              "<keras.src.callbacks.History at 0x7af1697b0550>"
            ]
          },
          "execution_count": 29,
          "metadata": {},
          "output_type": "execute_result"
        }
      ],
      "source": [
        "model.fit(X_train, y_train, epochs=60, callbacks=[tb_callback])"
      ]
    },
    {
      "cell_type": "code",
      "execution_count": 31,
      "metadata": {
        "colab": {
          "base_uri": "https://localhost:8080/"
        },
        "id": "OxhbsiGEooLE",
        "outputId": "93489d47-0976-4661-e44f-f7cc0d1585a2"
      },
      "outputs": [
        {
          "name": "stdout",
          "output_type": "stream",
          "text": [
            "1/1 [==============================] - 0s 33ms/step\n",
            "\n",
            "Predicted :  full-screen\n",
            "Actual :  full-screen\n",
            "\n",
            "Predicted :  full-screen\n",
            "Actual :  full-screen\n",
            "\n",
            "Predicted :  pause-play\n",
            "Actual :  pause-play\n",
            "\n",
            "Predicted :  pause-play\n",
            "Actual :  pause-play\n",
            "\n",
            "Predicted :  forward\n",
            "Actual :  forward\n",
            "\n",
            "Predicted :  backward\n",
            "Actual :  backward\n",
            "\n",
            "Predicted :  forward\n",
            "Actual :  forward\n",
            "\n",
            "Predicted :  forward\n",
            "Actual :  forward\n"
          ]
        }
      ],
      "source": [
        "res = model.predict(X_test)\n",
        "for i in range(8):\n",
        "  print('\\nPredicted : ',actions[np.argmax(res[i])])\n",
        "  print('Actual : ',actions[np.argmax(y_test[i])])"
      ]
    },
    {
      "cell_type": "code",
      "execution_count": 32,
      "metadata": {
        "colab": {
          "base_uri": "https://localhost:8080/"
        },
        "id": "_UOU74LqphDx",
        "outputId": "39796cda-558d-4345-c058-f2a5aaf257b9"
      },
      "outputs": [
        {
          "name": "stderr",
          "output_type": "stream",
          "text": [
            "/usr/local/lib/python3.10/dist-packages/keras/src/engine/training.py:3103: UserWarning: You are saving your model as an HDF5 file via `model.save()`. This file format is considered legacy. We recommend using instead the native Keras format, e.g. `model.save('my_model.keras')`.\n",
            "  saving_api.save_model(\n"
          ]
        }
      ],
      "source": [
        "model.save('action.h5')"
      ]
    }
  ],
  "metadata": {
    "accelerator": "GPU",
    "colab": {
      "gpuType": "T4",
      "provenance": []
    },
    "kernelspec": {
      "display_name": "Python 3",
      "name": "python3"
    },
    "language_info": {
      "name": "python"
    }
  },
  "nbformat": 4,
  "nbformat_minor": 0
}
